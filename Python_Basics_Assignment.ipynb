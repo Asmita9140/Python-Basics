{
  "nbformat": 4,
  "nbformat_minor": 0,
  "metadata": {
    "colab": {
      "provenance": []
    },
    "kernelspec": {
      "name": "python3",
      "display_name": "Python 3"
    },
    "language_info": {
      "name": "python"
    }
  },
  "cells": [
    {
      "cell_type": "code",
      "execution_count": null,
      "metadata": {
        "id": "Lr9ibjbgyb27"
      },
      "outputs": [],
      "source": [
        "#1 What is Python, and why is it popular?\n",
        "\n",
        "Among the hundreds of programming languages, Python consistently ranks in the TOP 5 in global popularity surveys, reflecting its widespread use and\n",
        "strong developer support.\n",
        "Python is a programming language initially developed by Guido van Rossum, a Dutch programmer.\n",
        "Guido aimed to create a language that was easy to read and write, providing an alternative to the more complex programming languages available at\n",
        "the time. In 1991, he introduced Python, which had started as a small personal project.\n",
        "Thanks to its intuitive syntax and versatile functionality, Python quickly gained popularity and continues to rank among the most widely used\n",
        "programming languages today.\n"
      ]
    },
    {
      "cell_type": "code",
      "source": [
        "#2  What is an interpreter in Python?\n",
        "\n",
        "An interpreter in Python is a program that reads Python code line by line (or statement by statement), converts it into machine-understandable\n",
        "instructions, and executes it immediately.The interpreter reads that code, translates it into lower-level operations, and runs it on your computer\n",
        "right away. It executes code line by line.\n",
        "You are opening the Python interpreter, and you can type Python commands to execute immediately:\n",
        "\n",
        "print(\"Hello World!\")\n"
      ],
      "metadata": {
        "colab": {
          "base_uri": "https://localhost:8080/"
        },
        "id": "xwXXmmZ0QGgj",
        "outputId": "94de4d75-b7ea-4b48-8d6e-f9a8e6154f5f"
      },
      "execution_count": null,
      "outputs": [
        {
          "output_type": "stream",
          "name": "stdout",
          "text": [
            "Hello World!\n"
          ]
        }
      ]
    },
    {
      "cell_type": "code",
      "source": [
        "#3 What are pre-defined keywords in Python?\n",
        "\n",
        "Pre-defined keywords are special reserved words that have a fixed meaning in Python and cannot be used as variable names, function names, or\n",
        "identifiers because they are part of the Python language syntax.\n",
        "\n",
        "These keywords help Python know what you're trying to do — for example, creating conditions, loops, functions, classes, etc.\n",
        "Examples of Python keywords - if, else, elif, for, import etc\n"
      ],
      "metadata": {
        "id": "DcKD9h8RS1-9"
      },
      "execution_count": null,
      "outputs": []
    },
    {
      "cell_type": "code",
      "source": [
        "#4 Can keywords be used as variable names?\n",
        "\n",
        "No, keywords cannot be used as variable names in Python, Because keywords are reserved words that Python uses to define its syntax and structure\n",
        "(like if, else, while, def, etc.). If you try to use them as variable names, it confuses Python and causes an error.\n",
        "Keywords are off-limits for variable names.\n",
        "Example -\n",
        "if = 10 #this will show error\n",
        "\n"
      ],
      "metadata": {
        "id": "iRCTETXiTuOl"
      },
      "execution_count": null,
      "outputs": []
    },
    {
      "cell_type": "code",
      "source": [
        "#5 What is mutability in Python?\n",
        "\n",
        "#Mutability is the ability of an object to allow its values to be modified after it has been created, without changing its identity.\n",
        "#You can modify the object’s contents.\n",
        "#Examples - Lists, Dictionaries, Sets.\n",
        "\n",
        "my_list = [1, 2, 3]\n",
        "my_list[0] = 99    # Changing the first element\n",
        "print(my_list)\n",
        "\n",
        "#Output will be [99, 2, 3]"
      ],
      "metadata": {
        "id": "w_g572hdUiAM"
      },
      "execution_count": null,
      "outputs": []
    },
    {
      "cell_type": "code",
      "source": [
        "#6. Why are lists mutable, but tuples are immutable?\n",
        "\n",
        "List - Lists are designed to be flexible and dynamic. You often need to add, remove, or modify elements in a list — that’s their purpose!\n",
        "       Under the hood, lists are stored in memory in a way that allows changing elements without creating a new object.\n",
        "\n",
        "Examples -\n",
        "my_list = [1, 2, 3]\n",
        "my_list[0] = 99\n",
        "print(my_list)     # [99, 2, 3]\n",
        "\n",
        "Tuples - Tuples are designed to represent fixed collections of values that should not change. They are often used for constant data or keys in\n",
        "         dictionaries (and keys must be immutable).Making them immutable makes them faster, memory-efficient, and hashable.\n",
        "\n",
        "Examples -\n",
        "my_tuple = (1, 2, 3)\n",
        "my_tuple[0] = 99  # It will show error\n",
        "\n",
        "Lists are mutable because they’re meant to store data you can modify.Tuples are immutable because they’re meant to store fixed data and ensure\n",
        "safety and consistency.\n"
      ],
      "metadata": {
        "id": "n4Njr4itWm-M"
      },
      "execution_count": null,
      "outputs": []
    },
    {
      "cell_type": "code",
      "source": [
        "#7. What is the difference between “==” and “is” operators in Python?\n",
        "\n",
        "The == and is operators in Python might look similar but they do very different things.\n",
        "\n",
        "This operator == Checks if values of two objects are equal. Compares the content of the objects.\n",
        "Example -\n",
        "a = [1, 2, 3]\n",
        "b = [1, 2, 3]\n",
        "print(a == b) #True\n",
        "\n",
        "Whereas is operators checks if two variables refer to the same object in memory. Compares the object reference, not content.\n",
        "Example -\n",
        "a = [10, 20]\n",
        "b = a\n",
        "\n",
        "print(a is b) #this will be true\n",
        "\n",
        "Use == when you want to check if values are equal.\n",
        "Use is only when you need to check if two variables point to the exact same object.\n"
      ],
      "metadata": {
        "id": "DoArOw3PYFkB"
      },
      "execution_count": null,
      "outputs": []
    },
    {
      "cell_type": "code",
      "source": [
        "#8. What are logical operators in Python?\n",
        "\n",
        "Logical operators are used to combine conditional statements and return True or False based on logic.\n",
        "Lpgical operators are - and, or, not.\n",
        "\n",
        "and Operator - Returns True if both statements are true.\n",
        "Example -\n",
        "a = 10\n",
        "b = 20\n",
        "if a > 5 and b > 15:\n",
        "    print(\"Both conditions are True\")\n",
        "\n",
        "or Operator - Returns True if at least one condition is True.\n",
        "Example -\n",
        "a = 10\n",
        "b = 20\n",
        "if a > 5 or b > 15:\n",
        "    print(\"At least one condition is True\")\n",
        "\n",
        "not Operator - Reverse the result, returns False if the result is true. Opposite of the current value.\n",
        "Example -\n",
        "x = False\n",
        "if not x:\n",
        "    print(\"x is False\")\n",
        "\n"
      ],
      "metadata": {
        "id": "wzc7TiqfdEvd"
      },
      "execution_count": null,
      "outputs": []
    },
    {
      "cell_type": "code",
      "source": [
        "#9. What is type casting in Python?\n",
        "Type casting in Python means converting one data type into another.\n",
        "For example, converting a string into an integer, or an integer into a float.\n",
        "\n",
        "Converting string to int:\n",
        "a = \"2\"\n",
        "type (a)\n",
        "int(a) #output will be 2\n",
        "\n",
        "float(a) #output will be 2.0\n",
        "\n",
        "Type casting = Converting data from one type to another (like int to float, string to int, etc.)"
      ],
      "metadata": {
        "colab": {
          "base_uri": "https://localhost:8080/"
        },
        "id": "tTcutjZLf0PJ",
        "outputId": "76c5f043-b8f1-4d60-89c3-9b0da9e2bf79"
      },
      "execution_count": null,
      "outputs": [
        {
          "output_type": "execute_result",
          "data": {
            "text/plain": [
              "2"
            ]
          },
          "metadata": {},
          "execution_count": 1
        }
      ]
    },
    {
      "cell_type": "code",
      "source": [
        "#10. What is the difference between implicit and explicit type casting?\n",
        "\n",
        "Implicit Type Casting - Python understands the datatype. Python converts data types by itself without you telling it. Usually happens when combining\n",
        "different numeric types (like int and float). Their will be no data loss or error expected.\n",
        "\n",
        "Example -\n",
        "a = 5     # int\n",
        "b = 3.2   # float\n",
        "c = a + b # Python automatically converts `a` to float\n",
        "print(c)  # Output: 8.2 (result is float)\n",
        "\n",
        "Explicit Type Casting - Explicit type casting is done manually by the programmer. You explicitly tell Python to convert the data type using\n",
        "functions like int(), float(), str(), etc.\n",
        "It is useful when you’re dealing with user input, or want to control conversions.\n",
        "\n",
        "Example -\n",
        "x = \"10\" #string\n",
        "y = int(x)  # Explicitly converting string to integer\n",
        "print(y + 5)  # Output: 15\n"
      ],
      "metadata": {
        "id": "LjGTO-nHx09F"
      },
      "execution_count": null,
      "outputs": []
    },
    {
      "cell_type": "code",
      "source": [
        "#11. What is the purpose of conditional statements in Python?\n",
        "\n",
        "The purpose of conditional statements in Python is to allow your program to make decisions and execute certain blocks of code only when specific\n",
        "conditions are met. It helps you to code based on some precondition. Conditional statements help your program decide what to do, based on whether\n",
        "something is True or False. They let your code respond to different situations. Without conditions, the code would always run the same way without\n",
        "any decisions.\n",
        "Conditional statements in Python are if statements, elif statements, and else statements.\n",
        "\n",
        "Conditional statements make your programs intelligent by allowing them to behave differently based on conditions.\n",
        "\n"
      ],
      "metadata": {
        "id": "LCtyNvGQ11o4"
      },
      "execution_count": null,
      "outputs": []
    },
    {
      "cell_type": "code",
      "source": [
        "#12. How does the elif statement work?\n",
        "The elif statement stands for \"else if\" and is used to check multiple conditions one after another when the first if condition is False.\n",
        "It allows you to specify additional conditions to check. You can have multiple elif statements between if and else. Python will stop checking\n",
        "conditions after the first True condition. The elif block only runs if the if condition is false.\n",
        "\n",
        "The program checks the first if condition.\n",
        "-If it's True, it executes that block and skips the rest.\n",
        "-If it's False, it moves to check the elif condition(s).\n",
        "\n",
        "Then elif condition is checked.\n",
        "-If True, its block runs, and the rest are skipped.\n",
        "-If False, Python moves on to check the next elif or else.\n",
        "\n",
        "Then else block runs if none of the if or elif conditions were True.\n",
        "\n",
        "Example-\n",
        "\n",
        "score = 80\n",
        "if score >= 90:\n",
        "    print(\"Grade: A\")\n",
        "elif score >= 80:\n",
        "    print(\"Grade: B\")\n",
        "elif score >= 70:\n",
        "    print(\"Grade: C\")\n",
        "else:\n",
        "    print(\"Grade: D\")\n"
      ],
      "metadata": {
        "id": "Ah8WU4gYA6wf"
      },
      "execution_count": null,
      "outputs": []
    },
    {
      "cell_type": "code",
      "source": [
        "#13. What is the difference between for and while loops?\n",
        "\n",
        "Both for and while loops are used to repeat a block of code, but they are used in different situations.\n",
        "-Use for when looping over a range or sequence.\n",
        "-Use while when looping based on a condition.\n",
        "\n",
        "for loop - Used when you know exactly how many times you want to run the loop (like looping over a sequence or range).\n",
        "    It iterates over items in a sequence (list, tuple, string, range).\n",
        "\n",
        "Example -\n",
        "for i in range(5):\n",
        "    print(i)\n",
        "# output\n",
        "0\n",
        "1\n",
        "2\n",
        "3\n",
        "4\n",
        "\n",
        "while loop - Used when you don’t know exactly how many times the loop will run, but you want it to continue as long as a condition is True.\n",
        "The loop runs until the condition becomes False. We use While when you want to loop until a condition is False.\n",
        "\n",
        "Example -\n",
        "i = 0\n",
        "while i < 5:\n",
        "    print(i)\n",
        "    i += 1\n",
        "# output\n",
        "0\n",
        "1\n",
        "2\n",
        "3\n",
        "4\n"
      ],
      "metadata": {
        "id": "b0JA80-YDMSY"
      },
      "execution_count": null,
      "outputs": []
    },
    {
      "cell_type": "code",
      "source": [
        "#14.  Describe a scenario where a while loop is more suitable than a for loop.\n",
        "\n",
        "A while loop is more suitable than a for loop in scenarios where the number of iterations is not known in advance and depends on a condition\n",
        "that may change dynamically during execution.\n",
        "\n",
        "For Example -\n",
        "\n",
        "You want to keep asking the user to enter a valid password until they meet certain criteria. You don’t know how many attempts they’ll need, so a\n",
        "while loop is ideal.\n",
        "\n",
        "password = \"\"\n",
        "while len(password) < 8:\n",
        "    password = input(\"Enter a password (at least 8 characters): \")\n",
        "print(\"Password accepted!\")\n",
        "\n",
        "The loop continues as long as the condition (len(password) < 8) is true. The number of iterations is unpredictable — it depends entirely on user\n",
        "input.\n",
        "A for loop would not fit well, because it typically iterates a fixed number of times or over a known range or collection.\n"
      ],
      "metadata": {
        "id": "9T-sgvMrIa9V"
      },
      "execution_count": null,
      "outputs": []
    },
    {
      "cell_type": "code",
      "source": [
        "PRACTICAL QUESTIONS"
      ],
      "metadata": {
        "id": "EAtizaoArtsf"
      },
      "execution_count": null,
      "outputs": []
    },
    {
      "cell_type": "code",
      "source": [
        "#1. Write a Python program to print \"Hello, World!\n",
        "\n",
        "a = (\"Hello World!\")\n",
        "print(a)"
      ],
      "metadata": {
        "colab": {
          "base_uri": "https://localhost:8080/"
        },
        "id": "v29N7Tzir8_S",
        "outputId": "96f487a3-dd52-4388-b158-b321228ac7a9"
      },
      "execution_count": null,
      "outputs": [
        {
          "output_type": "stream",
          "name": "stdout",
          "text": [
            "Hello World!\n"
          ]
        }
      ]
    },
    {
      "cell_type": "code",
      "source": [
        "#2. Write a Python program that displays your name and age.\n",
        "\n",
        "name = \"Asmita\"\n",
        "age = 23\n",
        "\n",
        "print(\"My name is\", name, \"and I am\", age, \"years old.\")\n"
      ],
      "metadata": {
        "colab": {
          "base_uri": "https://localhost:8080/"
        },
        "id": "dqJNUo6ds81z",
        "outputId": "e08ac3ab-3c1c-456c-da7b-b7b67e183ee3"
      },
      "execution_count": null,
      "outputs": [
        {
          "output_type": "stream",
          "name": "stdout",
          "text": [
            "My name is Asmita and I am 23 years old.\n"
          ]
        }
      ]
    },
    {
      "cell_type": "code",
      "source": [
        "#3 Write code to print all the pre-defined keywords in Python using the keyword library.\n",
        "\n",
        "import keyword\n",
        "\n",
        "# Print all Python keywords\n",
        "print(\"The Python keywords are:\")\n",
        "for kw in keyword.kwlist:\n",
        "    print(kw)"
      ],
      "metadata": {
        "colab": {
          "base_uri": "https://localhost:8080/"
        },
        "id": "bEqYjEzAtq60",
        "outputId": "676e11cb-a26e-45b1-ed2b-df980a4d9d4c"
      },
      "execution_count": null,
      "outputs": [
        {
          "output_type": "stream",
          "name": "stdout",
          "text": [
            "The Python keywords are:\n",
            "False\n",
            "None\n",
            "True\n",
            "and\n",
            "as\n",
            "assert\n",
            "async\n",
            "await\n",
            "break\n",
            "class\n",
            "continue\n",
            "def\n",
            "del\n",
            "elif\n",
            "else\n",
            "except\n",
            "finally\n",
            "for\n",
            "from\n",
            "global\n",
            "if\n",
            "import\n",
            "in\n",
            "is\n",
            "lambda\n",
            "nonlocal\n",
            "not\n",
            "or\n",
            "pass\n",
            "raise\n",
            "return\n",
            "try\n",
            "while\n",
            "with\n",
            "yield\n"
          ]
        }
      ]
    },
    {
      "cell_type": "code",
      "source": [
        "#4. Write a program that checks if a given word is a Python keyword.\n",
        "\n",
        "import keyword\n",
        "\n",
        "word = input(\"Enter the word\")\n",
        "if keyword.iskeyword(word):\n",
        "    print(f\"{word} is a Python keyword.\")\n",
        "else:\n",
        "    print(f\"{word} is not a Python keyword.\")\n"
      ],
      "metadata": {
        "id": "VwjHjDuvLn4p",
        "colab": {
          "base_uri": "https://localhost:8080/"
        },
        "outputId": "bc4e2fb2-fa99-40f4-e34b-27d97c6aa2a1"
      },
      "execution_count": null,
      "outputs": [
        {
          "output_type": "stream",
          "name": "stdout",
          "text": [
            "Enter the wordimport\n",
            "import is a Python keyword.\n"
          ]
        }
      ]
    },
    {
      "cell_type": "code",
      "source": [
        "#5. Create a list and tuple in Python, and demonstrate how attempting to change an element works differently for each.\n",
        "\n",
        "#In list how we can change an element.\n",
        "colors_list = [\"red\", \"green\", \"blue\"]\n",
        "colors_list[0] = \"yellow\"\n",
        "print(colors_list)\n",
        "\n",
        "\n",
        "#In tuple how we can change an element.\n",
        "colors_tuple = (\"red\", \"green\", \"blue\")\n",
        "colors_tuple[0] = \"yellow\"\n",
        "print(colors_tuple) #This will show error because in tuple object does not support item assignment\n",
        "\n"
      ],
      "metadata": {
        "colab": {
          "base_uri": "https://localhost:8080/"
        },
        "id": "0xsc_QEBM5ea",
        "outputId": "fa0db074-bbe2-41a5-9713-1672cd76f6a2"
      },
      "execution_count": null,
      "outputs": [
        {
          "output_type": "stream",
          "name": "stdout",
          "text": [
            "['yellow', 'green', 'blue']\n"
          ]
        }
      ]
    },
    {
      "cell_type": "code",
      "source": [
        "#6.  Write a function to demonstrate the behavior of mutable and immutable arguments?\n",
        "\n",
        "# List (mutable example)\n",
        "numbers = [1, 2, 3]\n",
        "print(\"Before:\", numbers)\n",
        "\n",
        "numbers.append(4)  # Modifying the list\n",
        "print(\"After:\", numbers)\n",
        "\n",
        "# Tuple (immutable example)\n",
        "numbers = (1, 2, 3)\n",
        "print(\"Before:\", numbers)\n",
        "\n",
        "# numbers[0] = 10  #This will raise an error ('tuple' object does not support item assignment)\n"
      ],
      "metadata": {
        "id": "XY4KQNztPL7i",
        "colab": {
          "base_uri": "https://localhost:8080/"
        },
        "outputId": "67dad31f-d10d-47c8-dcce-0f48fbb4796b"
      },
      "execution_count": null,
      "outputs": [
        {
          "output_type": "stream",
          "name": "stdout",
          "text": [
            "Before: [1, 2, 3]\n",
            "After: [1, 2, 3, 4]\n",
            "Before: (1, 2, 3)\n"
          ]
        }
      ]
    },
    {
      "cell_type": "code",
      "source": [
        "#7. Write a function to demonstrate the behavior of mutable and immutable arguments?\n",
        "\n",
        "#Same question as 6th."
      ],
      "metadata": {
        "id": "iMYrpBwnC8ZV"
      },
      "execution_count": null,
      "outputs": []
    },
    {
      "cell_type": "code",
      "source": [
        "#8.  Write a program to demonstrate the use of logical operators?\n",
        "\n",
        "#Here is a simple Python program to demonstrate the use of logical operators (and, or, not).\n",
        "\n",
        "#Logical Operators (AND, OR, NOT)\n",
        "a, b, c = True, False, True\n",
        "\n",
        "# AND: Both conditions must be True\n",
        "if a and c:\n",
        "    print(\"Both a and c are True (AND condition).\")\n",
        "\n",
        "# OR: At least one condition must be True\n",
        "if b or c:\n",
        "    print(\"Either b or c is True (OR condition).\")\n",
        "\n",
        "# NOT: Reverses the condition\n",
        "if not b:\n",
        "    print(\"b is False (NOT condition).\")\n"
      ],
      "metadata": {
        "colab": {
          "base_uri": "https://localhost:8080/"
        },
        "id": "eFnGbJdtDWgC",
        "outputId": "dcad557d-4212-4a21-b5e8-4ae71cb6128b"
      },
      "execution_count": null,
      "outputs": [
        {
          "output_type": "stream",
          "name": "stdout",
          "text": [
            "Both a and c are True (AND condition).\n",
            "Either b or c is True (OR condition).\n",
            "b is False (NOT condition).\n"
          ]
        }
      ]
    },
    {
      "cell_type": "code",
      "source": [
        "#9. Write a Python program to convert user input from string to integer, float, and boolean types?\n",
        "\n",
        "# Converting string to integer, floot and boolean\n",
        "a = \"42\"\n",
        "print(a)\n",
        "print(type(a))\n",
        "\n",
        "b = int(a)\n",
        "print(b)\n",
        "\n",
        "c = float(a)\n",
        "print(c)\n",
        "\n",
        "d = bool(a)\n",
        "print(d)\n"
      ],
      "metadata": {
        "colab": {
          "base_uri": "https://localhost:8080/"
        },
        "id": "_-XysabCXI2s",
        "outputId": "03dcdc5b-82d2-4410-dc8b-173b0412784e"
      },
      "execution_count": null,
      "outputs": [
        {
          "output_type": "stream",
          "name": "stdout",
          "text": [
            "42\n",
            "<class 'str'>\n",
            "42\n",
            "42.0\n",
            "True\n"
          ]
        }
      ]
    },
    {
      "cell_type": "code",
      "source": [
        "#10. Write code to demonstrate type casting with list elements.\n",
        "\n",
        "# List containing elements of different types\n",
        "list1 = [\"10\", \"20\", \"30\", 40.5, 50.8, \"60\"]\n",
        "\n",
        "# Convert all elements to integers\n",
        "int_list = [int(float(item)) for item in list1]\n",
        "print(\"Integer List:\", int_list)\n",
        "\n",
        "# Convert all elements to floats\n",
        "float_list = [float(item) for item in list1]\n",
        "print(\"Float List:\", float_list)\n",
        "\n",
        "# Convert all elements to strings\n",
        "string_list = [str(item) for item in list1]\n",
        "print(\"String List:\", string_list)\n"
      ],
      "metadata": {
        "colab": {
          "base_uri": "https://localhost:8080/"
        },
        "id": "EzHwmh4np3Q2",
        "outputId": "688c1669-4413-4cc4-dd19-242b275b6c54"
      },
      "execution_count": null,
      "outputs": [
        {
          "output_type": "stream",
          "name": "stdout",
          "text": [
            "Integer List: [10, 20, 30, 40, 50, 60]\n",
            "Float List: [10.0, 20.0, 30.0, 40.5, 50.8, 60.0]\n",
            "String List: ['10', '20', '30', '40.5', '50.8', '60']\n"
          ]
        }
      ]
    },
    {
      "cell_type": "code",
      "source": [
        "#11. Write a program that checks if a number is positive, negative, or zero.\n",
        "\n",
        "number = float(input(\"Enter a number: \"))\n",
        "\n",
        "if number > 0:\n",
        "    print(\"The number is positive.\")\n",
        "elif number < 0:\n",
        "    print(\"The number is negative.\")\n",
        "else:\n",
        "    print(\"The number is zero.\")\n"
      ],
      "metadata": {
        "colab": {
          "base_uri": "https://localhost:8080/"
        },
        "id": "mViD6rMfrcHy",
        "outputId": "e2e015a0-b01a-4a13-8b1a-6d9d7ab05f03"
      },
      "execution_count": null,
      "outputs": [
        {
          "output_type": "stream",
          "name": "stdout",
          "text": [
            "Enter a number: 23\n",
            "The number is positive.\n"
          ]
        }
      ]
    },
    {
      "cell_type": "code",
      "source": [
        "#12. Write a for loop to print numbers from 1 to 10.\n",
        "\n",
        "for i in range(1, 11):\n",
        "    print(i)"
      ],
      "metadata": {
        "colab": {
          "base_uri": "https://localhost:8080/"
        },
        "id": "AyVCjJqUrue5",
        "outputId": "ca0c9cc6-a210-4be0-bd21-9779cb1468b0"
      },
      "execution_count": null,
      "outputs": [
        {
          "output_type": "stream",
          "name": "stdout",
          "text": [
            "1\n",
            "2\n",
            "3\n",
            "4\n",
            "5\n",
            "6\n",
            "7\n",
            "8\n",
            "9\n",
            "10\n"
          ]
        }
      ]
    },
    {
      "cell_type": "code",
      "source": [
        "#13. Write a Python program to find the sum of all even numbers between 1 and 50?\n",
        "\n",
        "even = 0\n",
        "for num in range(2, 51, 2): ## Start from 2, go up to 50 with a step of 2\n",
        "    even += num\n",
        "print(\"The sum of even numbers is:\", even)\n"
      ],
      "metadata": {
        "colab": {
          "base_uri": "https://localhost:8080/"
        },
        "id": "7vEOD2y3r68p",
        "outputId": "745675f7-7917-4a55-8ab9-50faa77105a1"
      },
      "execution_count": null,
      "outputs": [
        {
          "output_type": "stream",
          "name": "stdout",
          "text": [
            "The sum of even numbers is: 650\n"
          ]
        }
      ]
    },
    {
      "cell_type": "code",
      "source": [
        "#14. Write a program to reverse a string using a while loop.\n",
        "\n",
        "string = input(\"Enter a string: \")\n",
        "reversed_string = \"\"\n",
        "index = len(string) - 1\n",
        "\n",
        "while index >= 0:\n",
        "    reversed_string += string[index]\n",
        "    index -= 1\n",
        "\n",
        "print(\"Reversed string:\", reversed_string)"
      ],
      "metadata": {
        "colab": {
          "base_uri": "https://localhost:8080/"
        },
        "id": "mDjZHTvhs5ho",
        "outputId": "99ee591f-48a9-48bc-83f9-e6c93e00d506"
      },
      "execution_count": null,
      "outputs": [
        {
          "output_type": "stream",
          "name": "stdout",
          "text": [
            "Enter a string: pwskills\n",
            "Reversed string: sllikswp\n"
          ]
        }
      ]
    },
    {
      "cell_type": "code",
      "source": [
        "#15. Write a Python program to calculate the factorial of a number provided by the user using a while loop.\n",
        "\n",
        "number = int(input(\"Enter a number: \"))\n",
        "factorial = 1\n",
        "current = 1\n",
        "\n",
        "while current <= number:\n",
        "    factorial *= current\n",
        "    current += 1\n",
        "\n",
        "print(f\"The factorial of {number} is {factorial}\")"
      ],
      "metadata": {
        "colab": {
          "base_uri": "https://localhost:8080/"
        },
        "id": "cpncFuZzs-Mn",
        "outputId": "8a54626f-6bc3-4801-e945-727076f4e839"
      },
      "execution_count": null,
      "outputs": [
        {
          "output_type": "stream",
          "name": "stdout",
          "text": [
            "Enter a number: 5\n",
            "The factorial of 5 is 120\n"
          ]
        }
      ]
    }
  ]
}